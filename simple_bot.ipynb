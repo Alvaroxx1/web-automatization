{
 "cells": [
  {
   "cell_type": "markdown",
   "metadata": {},
   "source": [
    "### Automated-Software\n",
    "\n",
    "* As there are more robust libraries for python using chrome driver, lets create a bot using it: "
   ]
  },
  {
   "cell_type": "code",
   "execution_count": null,
   "metadata": {},
   "outputs": [
    {
     "name": "stdout",
     "output_type": "stream",
     "text": [
      "Using User-Agent: Mozilla/5.0 (Windows NT 10.0; Win64; x64) AppleWebKit/537.36 (KHTML, like Gecko) Chrome/121.0.0.0 Safari/537.36 Edg/121.0.0.0\n"
     ]
    }
   ],
   "source": [
    "from selenium import webdriver\n",
    "from selenium.webdriver.chrome.options import Options\n",
    "from selenium_stealth import stealth\n",
    "\n",
    "from selenium.webdriver.common.keys import Keys\n",
    "from selenium.webdriver.common.by import By\n",
    "from selenium.webdriver.support.ui import WebDriverWait\n",
    "from selenium.webdriver.support import expected_conditions as EC\n",
    "\n",
    "from fake_useragent import UserAgent\n",
    "import time\n",
    "import random\n",
    "\n",
    "# Initialize a UserAgent instance for rotating user agents\n",
    "ua = UserAgent()\n",
    "user_agent = ua.random\n",
    "print(\"Using User-Agent:\", user_agent)\n",
    "\n",
    "# Options\n",
    "options = Options()\n",
    "options.add_argument(f\"user-agent={user_agent}\")\n",
    "options.add_argument(\"--disable-blink-features=AutomationControlled\")\n",
    "\n",
    "\n",
    "driver = webdriver.Chrome(options=options)\n",
    "driver.get(\"https://www.chatgpt.com\")\n",
    "\n",
    "# Apply selenium-stealth to bypass detection\n",
    "stealth(driver,\n",
    "        languages=[\"en-US\", \"en\"],\n",
    "        vendor=\"Google Inc.\",\n",
    "        platform=\"Win32\",\n",
    "        webgl_vendor=\"Intel Inc.\",\n",
    "        renderer=\"Intel Iris OpenGL Engine\",\n",
    "        fix_hairline=True)\n",
    "\n",
    "try:\n",
    "    # # Your code to interact with the website...\n",
    "    # time.sleep(random.uniform(2, 4))\n",
    "    # search_box = driver.find_element(By.NAME, \"q\")\n",
    "    # search_box.send_keys(\"chatgpt.com\")\n",
    "    # search_box.send_keys(Keys.RETURN)\n",
    "\n",
    "    # wait = WebDriverWait(driver, 3)\n",
    "    # results = wait.until(EC.presence_of_all_elements_located((By.CSS_SELECTOR, 'h3')))\n",
    "\n",
    "    # first_result_link = results[0].find_element(By.XPATH, './ancestor::a')\n",
    "\n",
    "    # first_result_link.click() \n",
    "    # Wait for the new page to load\n",
    "    # wait.until(EC.presence_of_element_located((By.TAG_NAME, 'body')))\n",
    "    time.sleep(10)\n",
    "\n",
    "finally:\n",
    "    driver.quit()\n"
   ]
  },
  {
   "cell_type": "markdown",
   "metadata": {},
   "source": [
    "### Working Code\n",
    "\n",
    "* Utilize random agents\n",
    "* Very important to use `undetected_cromedriver` to initialize the driver"
   ]
  },
  {
   "cell_type": "code",
   "execution_count": 37,
   "metadata": {},
   "outputs": [
    {
     "name": "stdout",
     "output_type": "stream",
     "text": [
      "Using User-Agent: Mozilla/5.0 (Linux; Android 10; K) AppleWebKit/537.36 (KHTML, like Gecko) Chrome/122.0.0.0 Mobile Safari/537.36\n"
     ]
    }
   ],
   "source": [
    "from selenium import webdriver\n",
    "from selenium.webdriver.chrome.options import Options\n",
    "from selenium_stealth import stealth\n",
    "\n",
    "from selenium.webdriver.common.keys import Keys\n",
    "from selenium.webdriver.common.by import By\n",
    "from selenium.webdriver.support.ui import WebDriverWait\n",
    "from selenium.webdriver.support import expected_conditions as EC\n",
    "\n",
    "from fake_useragent import UserAgent\n",
    "import time\n",
    "import random\n",
    "import undetected_chromedriver as uc\n",
    "\n",
    "# Initialize a UserAgent instance for rotating user agents\n",
    "ua = UserAgent()\n",
    "user_agent = ua.random\n",
    "print(\"Using User-Agent:\", user_agent)\n",
    "\n",
    "# Options\n",
    "options = Options()\n",
    "options.add_argument(f\"user-agent={user_agent}\")\n",
    "options.add_argument(\"--disable-blink-features=AutomationControlled\")\n",
    "options.binary_location = \"C:/Program Files/Google/Chrome/Application/chrome.exe\"\n",
    "\n",
    "driver = uc.Chrome(options=options)\n",
    "\n",
    "\n",
    "driver.get(\"https://www.chatgpt.com\")\n",
    "\n",
    "# Apply selenium-stealth to bypass detection\n",
    "stealth(driver,\n",
    "        languages=[\"en-US\", \"en\"],\n",
    "        vendor=\"Google Inc.\",\n",
    "        platform=\"Win32\",\n",
    "        webgl_vendor=\"Intel Inc.\",\n",
    "        renderer=\"Intel Iris OpenGL Engine\",\n",
    "        fix_hairline=True)\n",
    "\n",
    "try:\n",
    "    \n",
    "    time.sleep(10)\n",
    "\n",
    "finally:\n",
    "    driver.close()\n",
    "    driver.quit()\n"
   ]
  },
  {
   "cell_type": "code",
   "execution_count": null,
   "metadata": {},
   "outputs": [],
   "source": []
  }
 ],
 "metadata": {
  "kernelspec": {
   "display_name": "venv",
   "language": "python",
   "name": "python3"
  },
  "language_info": {
   "codemirror_mode": {
    "name": "ipython",
    "version": 3
   },
   "file_extension": ".py",
   "mimetype": "text/x-python",
   "name": "python",
   "nbconvert_exporter": "python",
   "pygments_lexer": "ipython3",
   "version": "3.10.11"
  }
 },
 "nbformat": 4,
 "nbformat_minor": 2
}
